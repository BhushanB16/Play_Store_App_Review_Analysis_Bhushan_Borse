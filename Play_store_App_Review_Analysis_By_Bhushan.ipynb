{
  "nbformat": 4,
  "nbformat_minor": 0,
  "metadata": {
    "colab": {
      "private_outputs": true,
      "provenance": [],
      "collapsed_sections": [
        "lQ7QKXXCp7Bj",
        "448CDAPjqfQr",
        "qYpmQ266Yuh3",
        "t27r6nlMphqO",
        "r2jJGEOYphqO",
        "b0JNsNcRphqO",
        "U2RJ9gkRphqQ",
        "EXh0U9oCveiU",
        "gIfDvo9L0UH2"
      ],
      "include_colab_link": true
    },
    "kernelspec": {
      "name": "python3",
      "display_name": "Python 3"
    },
    "language_info": {
      "name": "python"
    }
  },
  "cells": [
    {
      "cell_type": "markdown",
      "metadata": {
        "id": "view-in-github",
        "colab_type": "text"
      },
      "source": [
        "<a href=\"https://colab.research.google.com/github/BhushanB16/Play_Store_App_Review_Analysis_Bhushan_Borse/blob/main/Play_store_App_Review_Analysis_By_Bhushan.ipynb\" target=\"_parent\"><img src=\"https://colab.research.google.com/assets/colab-badge.svg\" alt=\"Open In Colab\"/></a>"
      ]
    },
    {
      "cell_type": "markdown",
      "source": [
        "# **Project Name**    - \n",
        "\n"
      ],
      "metadata": {
        "id": "vncDsAP0Gaoa"
      }
    },
    {
      "cell_type": "markdown",
      "source": [
        "##### **Project Type**    - Exploratory Data Analysis (EDA)\n",
        "\n",
        "##### **Contribution**    - Individual\n",
        "##### **Member -** **Bhushan Borse**\n"
      ],
      "metadata": {
        "id": "beRrZCGUAJYm"
      }
    },
    {
      "cell_type": "markdown",
      "source": [
        "# **Project Summary -**"
      ],
      "metadata": {
        "id": "FJNUwmbgGyua"
      }
    },
    {
      "cell_type": "markdown",
      "source": [
        "\n",
        "The objective of this project was to analyze the Google Play Store data to gain insights about the app market and provide recommendations to help businesses achieve their objectives on the platform. The analysis involved examining various app attributes such as categories, ratings, reviews, price, size, installs, and type.\n",
        "\n",
        "The dataset was first preprocessed to clean and transform the data to ensure its usability for analysis. The cleaning process involved removing missing values, converting data types, and handling outliers. The transformed dataset was then used to conduct data visualization and storytelling using various charts such as bar charts, scatter plots, heatmaps, and pair plots.\n",
        "\n",
        "The analysis revealed that the most popular app categories on the Play Store were Family, Game, and Tools. The data also showed that the rating and number of reviews had a positive correlation, which suggests that higher-rated apps tended to have more reviews. Moreover, the majority of the apps on the Play Store were free, and paid apps tended to have fewer downloads.\n",
        "\n",
        "The analysis also indicated that app size had a weak negative correlation with installs, which suggests that smaller apps were more likely to be downloaded. Additionally, the heatmap showed a positive correlation between installs and ratings, indicating that higher-rated apps had more downloads. The pair plot analysis further confirmed these findings and showed the distribution of various app attributes.\n",
        "\n",
        "Based on the analysis, it is recommended that businesses develop free apps with smaller sizes to increase their chances of downloads. Moreover, businesses should focus on improving their app ratings as higher-rated apps tend to have more downloads. Additionally, it is recommended that businesses should focus on developing apps in the popular categories such as Family, Games, and Tools, as they have the highest market share on the platform.\n",
        "\n",
        "The insights gained from this analysis can help businesses to develop effective app strategies and achieve their objectives on the Play Store. By considering the recommendations provided, businesses can increase their chances of success on the platform by creating apps that are more likely to be downloaded by users.\n",
        "\n",
        "Overall, the analysis of the Play Store dataset provided valuable insights into the app market, and the recommendations provided can help businesses to create successful apps and achieve their objectives on the platform."
      ],
      "metadata": {
        "id": "F6v_1wHtG2nS"
      }
    },
    {
      "cell_type": "markdown",
      "source": [
        "# **GitHub Link -**"
      ],
      "metadata": {
        "id": "w6K7xa23Elo4"
      }
    },
    {
      "cell_type": "markdown",
      "source": [
        "Provide your GitHub Link here.\n",
        "\n",
        "https://github.com/BhushanB16"
      ],
      "metadata": {
        "id": "h1o69JH3Eqqn"
      }
    },
    {
      "cell_type": "markdown",
      "source": [
        "# **Problem Statement**\n"
      ],
      "metadata": {
        "id": "yQaldy8SH6Dl"
      }
    },
    {
      "cell_type": "markdown",
      "source": [
        "**Write Problem Statement Here.**\n",
        "\n",
        "We have a dataset of mobile apps on the Google Play Store, which contains various attributes such as the app's name, category, rating, number of reviews, and price. The goal of this analysis is to explore the dataset and gain insights into the mobile app market on the Google Play Store. We want to answer questions such as:\n",
        "\n",
        "\n",
        "1.  What are the most top popular categories of apps?\n",
        "2. Which categories have the highest ratings?\n",
        "3. What is the distribution of app prices?\n",
        "4. Is there a relationship between an app's rating and the number of reviews it receives?\n",
        "5. Can we predict an app's rating based on its other attributes?\n",
        "6. The insights gained from this analysis could be used by developers to inform their app development strategy and help them create successful apps on the Google Play Store.\n",
        "6. What is the percentage of review sentiments?\n",
        "7. How is sentiment polarity varying for paid and free apps?\n",
        "8. Which are the Genres that are getting installed the most in top 20 Genres?\n",
        "9. How are reviews and ratings co-related?\n",
        "10. What is the Average Distribution of Rating of app on play store?\n",
        "11. What are the count of applications in each category differentiated by their type?\n",
        "12. What portion of the apps in playstore are paid and free?\n",
        "\n",
        "\n",
        "\n",
        "\n"
      ],
      "metadata": {
        "id": "DpeJGUA3kjGy"
      }
    },
    {
      "cell_type": "markdown",
      "source": [
        "#### **Define Your Business Objective?**"
      ],
      "metadata": {
        "id": "PH-0ReGfmX4f"
      }
    },
    {
      "cell_type": "markdown",
      "source": [
        "Answer Here.\n",
        "\n",
        "**Understand market trends**: Analyzing the dataset can help businesses understand the current market trends and preferences of users. This can help businesses develop products that are in line with market needs and user preferences, increasing their chances of success.\n",
        "\n",
        "**Improve app performance**: Analyzing the dataset can help businesses identify what makes an app successful and popular. This can help businesses improve their app's performance by adding features that users are looking for and enhancing the overall user experience.\n",
        "\n",
        "**Optimize app pricing**: Analyzing the dataset can help businesses understand the pricing strategies of other apps in the market and determine the optimal pricing for their own apps. This can help businesses maximize their revenue and profits.\n",
        "\n",
        "**Increase app visibility and downloads**: Analyzing the dataset can help businesses understand the factors that drive app downloads and visibility. This can help businesses optimize their app store optimization (ASO) strategy to improve their app's visibility and increase downloads.\n",
        "\n",
        "**Predict app performance**: Analyzing the dataset can help businesses predict how well their app will perform based on its attributes such as category, price, and ratings. This can help businesses make informed decisions about whether to invest in developing a particular app or not.\n",
        "\n",
        "Overall, the business objectives for analyzing the dataset are to gain insights into the mobile app market on the Google Play Store, improve app performance, and optimize business strategies to increase revenue and profits."
      ],
      "metadata": {
        "id": "PhDvGCAqmjP1"
      }
    },
    {
      "cell_type": "markdown",
      "source": [
        "# **General Guidelines** : -  "
      ],
      "metadata": {
        "id": "mDgbUHAGgjLW"
      }
    },
    {
      "cell_type": "markdown",
      "source": [
        "1.   Well-structured, formatted, and commented code is required. \n",
        "2.   Exception Handling, Production Grade Code & Deployment Ready Code will be a plus. Those students will be awarded some additional credits. \n",
        "     \n",
        "     The additional credits will have advantages over other students during Star Student selection.\n",
        "       \n",
        "             [ Note: - Deployment Ready Code is defined as, the whole .ipynb notebook should be executable in one go\n",
        "                       without a single error logged. ]\n",
        "\n",
        "3.   Each and every logic should have proper comments.\n",
        "4. You may add as many number of charts you want. Make Sure for each and every chart the following format should be answered.\n",
        "        \n",
        "\n",
        "```\n",
        "# Chart visualization code\n",
        "```\n",
        "            \n",
        "\n",
        "*   Why did you pick the specific chart?\n",
        "*   What is/are the insight(s) found from the chart?\n",
        "* Will the gained insights help creating a positive business impact? \n",
        "Are there any insights that lead to negative growth? Justify with specific reason.\n",
        "\n",
        "5. You have to create at least 20 logical & meaningful charts having important insights.\n",
        "\n",
        "\n",
        "[ Hints : - Do the Vizualization in  a structured way while following \"UBM\" Rule. \n",
        "\n",
        "U - Univariate Analysis,\n",
        "\n",
        "B - Bivariate Analysis (Numerical - Categorical, Numerical - Numerical, Categorical - Categorical)\n",
        "\n",
        "M - Multivariate Analysis\n",
        " ]\n",
        "\n",
        "\n",
        "\n"
      ],
      "metadata": {
        "id": "ZrxVaUj-hHfC"
      }
    },
    {
      "cell_type": "markdown",
      "source": [
        "# ***Let's Begin !***"
      ],
      "metadata": {
        "id": "O_i_v8NEhb9l"
      }
    },
    {
      "cell_type": "markdown",
      "source": [
        "## ***1. Know Your Data***"
      ],
      "metadata": {
        "id": "HhfV-JJviCcP"
      }
    },
    {
      "cell_type": "markdown",
      "source": [
        "### Import Libraries"
      ],
      "metadata": {
        "id": "Y3lxredqlCYt"
      }
    },
    {
      "cell_type": "code",
      "source": [
        "# Import Libraries\n",
        "\n",
        "import pandas as pd \n",
        "import numpy as np\n",
        "import seaborn as sns\n",
        "import matplotlib.pyplot as plt"
      ],
      "metadata": {
        "id": "M8Vqi-pPk-HR"
      },
      "execution_count": null,
      "outputs": []
    },
    {
      "cell_type": "markdown",
      "source": [
        "### Dataset Loading"
      ],
      "metadata": {
        "id": "3RnN4peoiCZX"
      }
    },
    {
      "cell_type": "code",
      "source": [
        "# Load Dataset\n",
        "from google.colab import drive\n",
        "drive.mount('/content/drive')"
      ],
      "metadata": {
        "id": "4CkvbW_SlZ_R"
      },
      "execution_count": null,
      "outputs": []
    },
    {
      "cell_type": "code",
      "source": [
        "df1= pd.read_csv('/content/drive/MyDrive/Data set/Play Store Data.csv')\n",
        "df2= pd.read_csv('/content/drive/MyDrive/Data set/User Reviews.csv')\n",
        "df=df1.merge(df2)"
      ],
      "metadata": {
        "id": "e8MbCZFu-Qxl"
      },
      "execution_count": null,
      "outputs": []
    },
    {
      "cell_type": "markdown",
      "source": [
        "### Dataset First View"
      ],
      "metadata": {
        "id": "x71ZqKXriCWQ"
      }
    },
    {
      "cell_type": "code",
      "source": [
        "# Dataset First Look\n",
        "df.head()"
      ],
      "metadata": {
        "id": "LWNFOSvLl09H"
      },
      "execution_count": null,
      "outputs": []
    },
    {
      "cell_type": "markdown",
      "source": [
        "### Dataset Rows & Columns count"
      ],
      "metadata": {
        "id": "7hBIi_osiCS2"
      }
    },
    {
      "cell_type": "code",
      "source": [
        "# Dataset Rows & Columns count\n",
        "print(f\"Number Of Rows {df.shape[0]}\")\n",
        "print(f\"Number Of Columns {df.shape[1]}\")"
      ],
      "metadata": {
        "id": "Kllu7SJgmLij"
      },
      "execution_count": null,
      "outputs": []
    },
    {
      "cell_type": "markdown",
      "source": [
        "### Dataset Information"
      ],
      "metadata": {
        "id": "JlHwYmJAmNHm"
      }
    },
    {
      "cell_type": "code",
      "source": [
        "# Dataset Info\n",
        "df.info()"
      ],
      "metadata": {
        "id": "e9hRXRi6meOf"
      },
      "execution_count": null,
      "outputs": []
    },
    {
      "cell_type": "markdown",
      "source": [
        "#### Duplicate Values"
      ],
      "metadata": {
        "id": "35m5QtbWiB9F"
      }
    },
    {
      "cell_type": "code",
      "source": [
        "# Dataset Duplicate Value Count\n",
        "num_duplicates = df.duplicated().sum()\n",
        "print(f\"Number of Duplicate Values: {num_duplicates}\")"
      ],
      "metadata": {
        "id": "1sLdpKYkmox0"
      },
      "execution_count": null,
      "outputs": []
    },
    {
      "cell_type": "markdown",
      "source": [
        "#### Missing Values/Null Values"
      ],
      "metadata": {
        "id": "PoPl-ycgm1ru"
      }
    },
    {
      "cell_type": "code",
      "source": [
        "# Missing Values/Null Values Count\n",
        "num_missing = df.isnull().sum()\n",
        "print(\"Number of Missing Values:\\n\", num_missing)\n"
      ],
      "metadata": {
        "id": "GgHWkxvamxVg"
      },
      "execution_count": null,
      "outputs": []
    },
    {
      "cell_type": "code",
      "source": [
        "# Visualizing the missing values\n",
        "\n",
        "sns.heatmap(df.isnull(), cbar=False)\n",
        "plt.title('Missing Values Heatmap')\n",
        "plt.show()"
      ],
      "metadata": {
        "id": "147b6hJb2qgx"
      },
      "execution_count": null,
      "outputs": []
    },
    {
      "cell_type": "markdown",
      "source": [
        "### What did you know about your dataset?"
      ],
      "metadata": {
        "id": "H0kj-8xxnORC"
      }
    },
    {
      "cell_type": "markdown",
      "source": [
        "Answer Here\n",
        "\n",
        "The dataset contains information about mobile apps available on the Google Play Store. The dataset has 17 columns that provide information about each app, including its name, category, rating, number of reviews, size, number of installs, price, content rating, genres, last updated date, current version, minimum Android version,Translated_Review,Sentiment,Sentiment_Polarity and Sentiment_Subjectivity.There are 122662 rows in the dataset. The dataset contains 81001 duplicate rows that may need to be removed during data cleaning and preprocessing and There are missing values in the Rating, Translated_Review,Sentiment,Sentiment_Polarity,Sentiment_Subjectivity columns that will need to be handled during data cleaning and preprocessing."
      ],
      "metadata": {
        "id": "gfoNAAC-nUe_"
      }
    },
    {
      "cell_type": "markdown",
      "source": [
        "## ***2. Understanding Your Variables***"
      ],
      "metadata": {
        "id": "nA9Y7ga8ng1Z"
      }
    },
    {
      "cell_type": "code",
      "source": [
        "# Dataset Columns\n",
        "df.columns"
      ],
      "metadata": {
        "id": "j7xfkqrt5Ag5"
      },
      "execution_count": null,
      "outputs": []
    },
    {
      "cell_type": "code",
      "source": [
        "# Dataset Describe\n",
        "df.describe()"
      ],
      "metadata": {
        "id": "DnOaZdaE5Q5t"
      },
      "execution_count": null,
      "outputs": []
    },
    {
      "cell_type": "markdown",
      "source": [
        "### Variables Description "
      ],
      "metadata": {
        "id": "PBTbrJXOngz2"
      }
    },
    {
      "cell_type": "markdown",
      "source": [
        "Answer Here\n",
        "\n",
        "\n",
        "* **App:**  Name of the mobile app.     \n",
        "\n",
        "* **Category :** Category of the app.\n",
        "\n",
        "* **Rating :** Average user rating of the app.\n",
        "\n",
        "* **Reviews :** Number of user reviews for the app.\n",
        "\n",
        "*  **Size :** Size of the app.\n",
        "\n",
        "*  **Installs :** Approximate number of user downloads for the app.\n",
        "\n",
        "* **Type :** Paid or Free.\n",
        "\n",
        "*  **Price :** Price of the app.\n",
        "\n",
        "* **Content Rating :** Content rating of the app.\n",
        "\n",
        "* **Genres :** Genre of the app.\n",
        "\n",
        "* **Last Updated :** Date when the app was last updated.\n",
        "\n",
        "*  **Current Ver :** Current version of the app.\n",
        "\n",
        "* **Android Ver :** Minimum Android version required to run the app.\n"
      ],
      "metadata": {
        "id": "aJV4KIxSnxay"
      }
    },
    {
      "cell_type": "markdown",
      "source": [
        "### Check Unique Values for each variable."
      ],
      "metadata": {
        "id": "u3PMJOP6ngxN"
      }
    },
    {
      "cell_type": "code",
      "source": [
        "# Check Unique Values for each variable.\n",
        "for i in df.columns.tolist():\n",
        "  print(\"No. of unique values in \",i,\"is\",df[i].nunique(),\".\")\n",
        " "
      ],
      "metadata": {
        "id": "zms12Yq5n-jE"
      },
      "execution_count": null,
      "outputs": []
    },
    {
      "cell_type": "markdown",
      "source": [
        "## 3. ***Data Wrangling***"
      ],
      "metadata": {
        "id": "dauF4eBmngu3"
      }
    },
    {
      "cell_type": "markdown",
      "source": [
        "### Data Wrangling Code"
      ],
      "metadata": {
        "id": "bKJF3rekwFvQ"
      }
    },
    {
      "cell_type": "code",
      "source": [
        "# Write your code to make your dataset analysis ready.\n",
        "\n",
        "# Drop duplicates\n",
        "df.drop_duplicates(inplace=True)"
      ],
      "metadata": {
        "id": "wk-9a2fpoLcV"
      },
      "execution_count": null,
      "outputs": []
    },
    {
      "cell_type": "code",
      "source": [
        "#Drop unnecessary columns\n",
        "df.drop(['Last Updated', 'Current Ver', 'Android Ver','Translated_Review',\n",
        "         'Sentiment','Sentiment_Polarity','Sentiment_Subjectivity'], axis=1, inplace=True)\n",
        "\n"
      ],
      "metadata": {
        "id": "LFgPfwOc9Lof"
      },
      "execution_count": null,
      "outputs": []
    },
    {
      "cell_type": "code",
      "source": [
        "# Convert 'Reviews'  to numeric data types\n",
        "\n",
        "df['Reviews'] = pd.to_numeric(df['Reviews'], errors='coerce')"
      ],
      "metadata": {
        "id": "mSZWpfNWC16l"
      },
      "execution_count": null,
      "outputs": []
    },
    {
      "cell_type": "code",
      "source": [
        "# Convert 'Size'  to numeric data types\n",
        "\n",
        "df['Size'] = df['Size'].apply(lambda x: str(x).replace('M', '') if 'M' in str(x) else x)\n",
        "df['Size'] = df['Size'].apply(lambda x: str(x).replace(',', '') if ',' in str(x) else x)\n",
        "df['Size'] = pd.to_numeric(df['Size'], errors='coerce')"
      ],
      "metadata": {
        "id": "ckhdjwWUC6AJ"
      },
      "execution_count": null,
      "outputs": []
    },
    {
      "cell_type": "code",
      "source": [
        "# Remove rows with null values\n",
        "\n",
        "df.dropna(inplace=True)"
      ],
      "metadata": {
        "id": "YFJBtz4tC-BV"
      },
      "execution_count": null,
      "outputs": []
    },
    {
      "cell_type": "code",
      "source": [
        "# Convert 'Price' to numeric data type\n",
        "df['Price'] = df['Price'].apply(lambda x: str(x).replace('$', '') if '$' in str(x) else str(x))\n",
        "df['Price'] = pd.to_numeric(df['Price'], errors='coerce')"
      ],
      "metadata": {
        "id": "L_MX-S04C_vP"
      },
      "execution_count": null,
      "outputs": []
    },
    {
      "cell_type": "code",
      "source": [
        "# Convert 'Installs' column to numeric\n",
        "df['Installs'] = df['Installs'].apply(lambda x: str(x).replace('+', '') if '+' in str(x) else x)\n",
        "df['Installs'] = df['Installs'].apply(lambda x: str(x).replace(',', '') if ',' in str(x) else x)\n",
        "df['Installs'] = pd.to_numeric(df['Installs'])"
      ],
      "metadata": {
        "id": "ctd9-cWMDHXn"
      },
      "execution_count": null,
      "outputs": []
    },
    {
      "cell_type": "code",
      "source": [
        "# Convert 'Content Rating' to ordered categorical data type\n",
        "\n",
        "df['Content Rating'] = pd.Categorical(df['Content Rating'], categories=['Unrated', 'Everyone', 'Everyone 10+', 'Teen', 'Mature 17+', 'Adults only 18+'])"
      ],
      "metadata": {
        "id": "EF3MuGzNDOnr"
      },
      "execution_count": null,
      "outputs": []
    },
    {
      "cell_type": "code",
      "source": [
        "# Convert 'Type' to categorical data type\n",
        "df['Type'] = pd.Categorical(df['Type'], categories=['Free', 'Paid'], ordered=True)"
      ],
      "metadata": {
        "id": "zJLHDnYqDuoC"
      },
      "execution_count": null,
      "outputs": []
    },
    {
      "cell_type": "code",
      "source": [
        "# Drop rows with missing values in 'Type' and 'Content Rating' columns\n",
        "df.dropna(subset=['Type', 'Content Rating'], inplace=True)"
      ],
      "metadata": {
        "id": "3FH0RjDBDzSW"
      },
      "execution_count": null,
      "outputs": []
    },
    {
      "cell_type": "code",
      "source": [
        "# Reset the index\n",
        "df.reset_index(drop=True, inplace=True)"
      ],
      "metadata": {
        "id": "C6jfUmJ5DzMD"
      },
      "execution_count": null,
      "outputs": []
    },
    {
      "cell_type": "code",
      "source": [
        "print(f\"Number of Rows {df.shape[0]}\")\n",
        "print(f\"Number of Rows {df.shape[1]}\")"
      ],
      "metadata": {
        "id": "uhzkKY1kDzIq"
      },
      "execution_count": null,
      "outputs": []
    },
    {
      "cell_type": "code",
      "source": [
        "df.head()"
      ],
      "metadata": {
        "id": "sIEZo-IBDzC2"
      },
      "execution_count": null,
      "outputs": []
    },
    {
      "cell_type": "code",
      "source": [
        "df.describe(include=\"all\")"
      ],
      "metadata": {
        "id": "p1AVSQrzEIJ3"
      },
      "execution_count": null,
      "outputs": []
    },
    {
      "cell_type": "markdown",
      "source": [
        "### What all manipulations have you done and insights you found?"
      ],
      "metadata": {
        "id": "MSa1f5Uengrz"
      }
    },
    {
      "cell_type": "markdown",
      "source": [
        "Answer Here.\n",
        "\n",
        "**I performed several data manipulations on the dataset, including:**\n",
        "\n",
        "* **Removed any duplicate rows** \n",
        "\n",
        "* **Removed Un necessasry Columns**\n",
        "\n",
        "* **Converting 'Reviews' column to numeric data types**\n",
        "\n",
        "* **Converting 'Size' column to numeric data types.**\n",
        "\n",
        "*  **Converting 'Price' column to numeric data types**\n",
        "\n",
        "*  **Converting 'Installs' column to numeric data types**\n",
        "\n",
        "* **Removed rows with null values**\n",
        "\n",
        "*  **Converting 'Content Rating' to ordered categorical data type**\n",
        "\n",
        "* **Converting 'Type' to categorical data type**\n",
        "\n",
        "* **Drop rows with missing values in 'Type' and 'Content Rating' columns**\n",
        "\n",
        "* **Renamed the columns for easier Analysis**\n",
        "\n",
        "*  **At Last I Reset the index**\n",
        "\n",
        "\n",
        "**I Found Several INSIGHTS including :**\n",
        "\n",
        "\n",
        "*  **App Categories:** The dataset contains apps from 33 different categories. The most popular categories are **'Game'** , **'Family'** and **'Dating'**.\n",
        "\n",
        "\n",
        "*  **App Ratings:** The average rating for all apps in the dataset is 4.3 out of 5.The minimum rating is 2.5 and the maximum rating is 4.9. The majority of the ratings fall between 3.5 and 4.5.\n",
        "\n",
        "\n",
        "*  **App Size:** The average app size is 32.8 MB, with a minimum size of 1.2 MB and a maximum size of 99.0 MB.\n",
        "\n",
        "\n",
        "*  **App Installs:** The average number of installs is 32498880, with a minimum of 1 install and a maximum of over 1 billion installs.\n",
        " The majority of the apps have less than 10 million installs.\n",
        "\n",
        "\n",
        "\n",
        "*  **App Type:** The majority of apps in the dataset are free (92.6%).\n",
        "The rest are paid apps, with prices ranging from 0.99 to 400.00.\n",
        "\n",
        "\n",
        "*   **Prices:** The average price of a paid app 13.11, with a minimum price of  is 0.99 and a maximum price of $400.00."
      ],
      "metadata": {
        "id": "LbyXE7I1olp8"
      }
    },
    {
      "cell_type": "markdown",
      "source": [
        "## ***4. Data Vizualization, Storytelling & Experimenting with charts : Understand the relationships between variables***"
      ],
      "metadata": {
        "id": "GF8Ens_Soomf"
      }
    },
    {
      "cell_type": "markdown",
      "source": [
        "#### **Chart - 1 -- App Categories VS Number Of Apps**"
      ],
      "metadata": {
        "id": "0wOQAZs5pc--"
      }
    },
    {
      "cell_type": "code",
      "source": [
        "# Chart - 1 visualization code\n",
        "\n",
        "# Relationship between App Categories And Number Of Apps\n",
        "\n",
        "# Count the number of apps in each category\n",
        "category_count = df['Category'].value_counts()\n",
        "\n",
        "# Plot a bar chart of the app categories\n",
        "plt.figure(figsize=(20,6))\n",
        "plt.bar(category_count.index, category_count.values)\n",
        "plt.title('App Categories')\n",
        "plt.xlabel('Category')\n",
        "plt.ylabel('Number of Apps')\n",
        "plt.xticks(rotation=90)\n",
        "plt.show()"
      ],
      "metadata": {
        "id": "7v_ESjsspbW7"
      },
      "execution_count": null,
      "outputs": []
    },
    {
      "cell_type": "markdown",
      "source": [
        "##### 1. Why did you pick the specific chart?"
      ],
      "metadata": {
        "id": "K5QZ13OEpz2H"
      }
    },
    {
      "cell_type": "markdown",
      "source": [
        "Answer Here.\n",
        "\n",
        "I picked a bar chart to visualize the popularity of each category in the playstore dataset because a bar chart is an effective way to show the number of items in different categories. In this case, we are interested in the number of apps in each category, and a bar chart allows us to easily compare the number of apps across categories.\n",
        "\n",
        "Bar charts are simple and intuitive to understand, making them a popular choice for visualizing categorical data. They are also versatile and can be used to show different types of data, such as counts, percentages, or averages. Finally, bar charts can be customized in many ways to highlight specific aspects of the data, such as changing the color scheme or sorting the bars by value."
      ],
      "metadata": {
        "id": "XESiWehPqBRc"
      }
    },
    {
      "cell_type": "markdown",
      "source": [
        "##### 2. What is/are the insight(s) found from the chart?"
      ],
      "metadata": {
        "id": "lQ7QKXXCp7Bj"
      }
    },
    {
      "cell_type": "markdown",
      "source": [
        "Answer Here\n",
        "\n",
        "From The Above Bar Chat , we can see that the top 5 most popular app categories are:\n",
        "\n",
        "\n",
        "* **Game** - with over 1800 apps\n",
        "\n",
        "* **Family** - with over 950 apps\n",
        "\n",
        "* **Dating** - with over 800 apps\n",
        "\n",
        "* **Health_and_fitness** - with over 400 apps\n",
        "\n",
        "* **Finance** - with over 350 apps\n",
        "\n",
        "We can also see that there are many categories with only a few apps, such as \"Parenting\", \"Beauty\", and \"Comics\", which have less than 100 apps each. This indicates that the market for these categories may be smaller than others.\n",
        "\n",
        "Overall, the bar chart gives us a good sense of the distribution of app categories in the playstore dataset and can help us identify which categories are most popular among users."
      ],
      "metadata": {
        "id": "C_j1G7yiqdRP"
      }
    },
    {
      "cell_type": "markdown",
      "source": [
        "##### 3. Will the gained insights help creating a positive business impact? \n",
        "Are there any insights that lead to negative growth? Justify with specific reason."
      ],
      "metadata": {
        "id": "448CDAPjqfQr"
      }
    },
    {
      "cell_type": "markdown",
      "source": [
        "Answer Here\n",
        "\n",
        "\n",
        "The insights gained from the analysis of the playstore dataset can help create a positive business impact in several ways. For example:\n",
        "\n",
        "* Identifying the most popular categories of apps can help developers and businesses focus their efforts on creating and promoting apps in those categories, which are more likely to be successful and generate revenue.\n",
        "\n",
        "* Understanding the distribution of app categories in the dataset can also help businesses identify gaps or opportunities in the market and develop new apps or features to meet user needs."
      ],
      "metadata": {
        "id": "3cspy4FjqxJW"
      }
    },
    {
      "cell_type": "markdown",
      "source": [
        "#### **Chart - 2-- App Rating VS Number Of Reviews**"
      ],
      "metadata": {
        "id": "KSlN3yHqYklG"
      }
    },
    {
      "cell_type": "markdown",
      "source": [
        "**How are reviews and ratings co-related?**"
      ],
      "metadata": {
        "id": "jx7ekphe7qZ6"
      }
    },
    {
      "cell_type": "code",
      "source": [
        "# Chart - 2 visualization code\n",
        "\n",
        "# Relationship between App Rating And Number Of Reviews \n",
        "\n",
        "plt.scatter(df['Rating'], df['Reviews'], alpha=0.5)\n",
        "plt.title('App Ratings vs. Number of Reviews')\n",
        "plt.xlabel('Rating')\n",
        "plt.ylabel('Number of Reviews')\n",
        "plt.show()"
      ],
      "metadata": {
        "id": "R4YgtaqtYklH"
      },
      "execution_count": null,
      "outputs": []
    },
    {
      "cell_type": "markdown",
      "source": [
        "##### 1. Why did you pick the specific chart?"
      ],
      "metadata": {
        "id": "t6dVpIINYklI"
      }
    },
    {
      "cell_type": "markdown",
      "source": [
        "Answer Here.\n",
        "\n",
        "I chose to create a scatter plot to visualize the relationship between app ratings and the number of reviews because it is a commonly used chart type for exploring relationships between two continuous variables.Scatter plots are useful for visualizing the spread and concentration of data points, as well as any trends or patterns that may exist in the data. \n",
        "\n",
        "Additionally, we can add a trend line to the scatter plot to show the overall relationship between the variables, which can be helpful in identifying any trends or patterns in the data that may not be immediately apparent from the scatter plot alone.\n",
        "\n",
        "Overall, a scatter plot is an effective way to explore the relationship between app ratings and the number of reviews and gain insights into how these variables may be related."
      ],
      "metadata": {
        "id": "5aaW0BYyYklI"
      }
    },
    {
      "cell_type": "markdown",
      "source": [
        "##### 2. What is/are the insight(s) found from the chart?"
      ],
      "metadata": {
        "id": "ijmpgYnKYklI"
      }
    },
    {
      "cell_type": "markdown",
      "source": [
        "Answer Here\n",
        "\n",
        "The scatter plot with the number of reviews on the y-axis and the average rating on the x-axis shows that there is a weak positive relationship between these two variables. We can see that as the number of reviews increases, the average rating tends to increase as well. However, there is also a lot of variability in the data, and there are many apps with a large number of reviews and a wide range of ratings.\n",
        "\n"
      ],
      "metadata": {
        "id": "PSx9atu2YklI"
      }
    },
    {
      "cell_type": "markdown",
      "source": [
        "##### 3. Will the gained insights help creating a positive business impact? \n",
        "Are there any insights that lead to negative growth? Justify with specific reason."
      ],
      "metadata": {
        "id": "-JiQyfWJYklI"
      }
    },
    {
      "cell_type": "markdown",
      "source": [
        "Answer Here\n",
        "\n",
        "\n",
        "The insights gained from the visualization can be useful for businesses to make informed decisions and improve their app development and marketing strategies. For instance, the weak positive relationship between the number of reviews and app ratings suggests that businesses should focus on not just generating a large number of reviews, but also ensuring that the app is of high quality and user-friendly, in order to maintain a high rating.\n",
        "\n",
        "Additionally, the insight that certain categories of apps are more popular than others can also help businesses to focus their resources on developing and marketing apps in those categories, which can lead to positive growth."
      ],
      "metadata": {
        "id": "BcBbebzrYklV"
      }
    },
    {
      "cell_type": "markdown",
      "source": [
        "#### **Chart - 3-- App type VS Rating**"
      ],
      "metadata": {
        "id": "EM7whBJCYoAo"
      }
    },
    {
      "cell_type": "code",
      "source": [
        "# Chart - 3 visualization code\n",
        "\n",
        "# Relationship between App type and Rating By Boyplot\n",
        "\n",
        "plt.figure(figsize=(8,6))\n",
        "sns.boxplot(x='Type', y='Rating', data=df, palette = \"cool_r\" )\n",
        "plt.title('App Type vs. Rating')\n",
        "plt.xlabel('App Type')\n",
        "plt.ylabel('Rating')\n",
        "plt.show()"
      ],
      "metadata": {
        "id": "t6GMdE67YoAp"
      },
      "execution_count": null,
      "outputs": []
    },
    {
      "cell_type": "markdown",
      "source": [
        "##### 1. Why did you pick the specific chart?"
      ],
      "metadata": {
        "id": "fge-S5ZAYoAp"
      }
    },
    {
      "cell_type": "markdown",
      "source": [
        "Answer Here.\n",
        "\n",
        "I chose a box plot to visualize the relationship between app type and rating because it is an effective way to compare the distribution of a continuous variable (in this case, rating) between different categories (in this case, free vs. paid apps). A box plot displays the median, quartiles, and outliers of a dataset, which can provide insights into the distribution of the variable and any differences between the categories. It is also easy to interpret and can be used to identify any potential patterns or outliers in the data."
      ],
      "metadata": {
        "id": "5dBItgRVYoAp"
      }
    },
    {
      "cell_type": "markdown",
      "source": [
        "##### 2. What is/are the insight(s) found from the chart?"
      ],
      "metadata": {
        "id": "85gYPyotYoAp"
      }
    },
    {
      "cell_type": "markdown",
      "source": [
        "Answer Here\n",
        "\n",
        "From the above box plot, we can see that the median rating for both free and paid apps is around 4.3, with a slightly higher median rating for paid apps. However, there are more outliers (represented by the circles in the plot) in the free app category, indicating a wider range of ratings compared to paid apps. This suggests that there may be more variability in the quality of free apps, which could be due to a number of factors such as lower resources for development or lower user expectations for free apps.\n",
        "\n",
        "Overall, this chart suggests that there may be some differences in the ratings of free and paid apps, with paid apps generally having slightly higher ratings and less variability. However, it is important to note that the median ratings are fairly similar for both categories, indicating that there are still many high-quality apps available for free."
      ],
      "metadata": {
        "id": "4jstXR6OYoAp"
      }
    },
    {
      "cell_type": "markdown",
      "source": [
        "##### 3. Will the gained insights help creating a positive business impact? \n",
        "Are there any insights that lead to negative growth? Justify with specific reason."
      ],
      "metadata": {
        "id": "RoGjAbkUYoAp"
      }
    },
    {
      "cell_type": "markdown",
      "source": [
        "Answer Here\n",
        "\n",
        "\n",
        "The insights gained from this chart could potentially help create a positive business impact. App developers could use this information to make informed decisions about whether to make their app free or paid. While paid apps may have slightly higher ratings and less variability, there are still many high-quality free apps available, so developers may choose to make their app free in order to reach a wider audience and potentially generate revenue through ads or in-app purchases.\n",
        "\n",
        "One potential negative impact of these insights could be if developers assume that paid apps will always be of higher quality, and neglect to put in the necessary effort and resources to develop a high-quality app regardless of its pricing model. This could lead to a proliferation of low-quality paid apps, which could lead to negative reviews and reduced sales.\n",
        "\n",
        "Overall, it is important to use these insights in conjunction with other factors, such as market demand and user needs, to make informed decisions about app development and pricing."
      ],
      "metadata": {
        "id": "zfJ8IqMcYoAp"
      }
    },
    {
      "cell_type": "markdown",
      "source": [
        "#### **Chart - 4 -- App Price VS Installs**"
      ],
      "metadata": {
        "id": "4Of9eVA-YrdM"
      }
    },
    {
      "cell_type": "code",
      "source": [
        "# Chart - 4 visualization code\n",
        "# Relationship between App Price And Installs\n",
        "\n",
        "plt.figure(figsize=(10,6))\n",
        "\n",
        "plt.scatter(df['Price'], df['Installs'], alpha=0.5)\n",
        "plt.title('App Price vs. Installs')\n",
        "plt.xlabel('Price')\n",
        "plt.ylabel('Installs')\n",
        "plt.show()"
      ],
      "metadata": {
        "id": "irlUoxc8YrdO"
      },
      "execution_count": null,
      "outputs": []
    },
    {
      "cell_type": "markdown",
      "source": [
        "##### 1. Why did you pick the specific chart?"
      ],
      "metadata": {
        "id": "iky9q4vBYrdO"
      }
    },
    {
      "cell_type": "markdown",
      "source": [
        "Answer Here.\n",
        "\n",
        "I picked a scatter plot because it can effectively display the relationship between two continuous variables (Price and Installs) and easily show any patterns or trends in the data. The use of color also helps to differentiate the different app categories."
      ],
      "metadata": {
        "id": "aJRCwT6DYrdO"
      }
    },
    {
      "cell_type": "markdown",
      "source": [
        "##### 2. What is/are the insight(s) found from the chart?"
      ],
      "metadata": {
        "id": "F6T5p64dYrdO"
      }
    },
    {
      "cell_type": "markdown",
      "source": [
        ":Answer Here\n",
        "\n",
        "The scatter plot shows that there is a general trend of higher installs for apps that are free, while apps that have a higher price generally have fewer installs. However, there are a few apps that have a high price and still manage to have a high number of installs. These are likely to be specialized or niche apps that target a specific audience willing to pay a premium for their features. The plot also shows that the majority of apps are free, with only a small number of apps charging a price. Finally, the plot shows that some categories, such as Finance and Business, have a higher proportion of paid apps compared to others, such as Tools and Entertainment."
      ],
      "metadata": {
        "id": "Xx8WAJvtYrdO"
      }
    },
    {
      "cell_type": "markdown",
      "source": [
        "##### 3. Will the gained insights help creating a positive business impact? \n",
        "Are there any insights that lead to negative growth? Justify with specific reason."
      ],
      "metadata": {
        "id": "y-Ehk30pYrdP"
      }
    },
    {
      "cell_type": "markdown",
      "source": [
        "Answer Here\n",
        "\n",
        "The insight gained from the chart is that the majority of the apps are free, and they have the highest number of installs. The apps that cost money have significantly fewer installs, and as the price increases, the number of installs decreases. This information can be useful to businesses to decide whether to make their app free or charge for it. Offering a free app can potentially attract more users and increase visibility, which can lead to more downloads and revenue in the long run. However, charging for an app can also generate revenue, but it may limit the number of potential users who are willing to pay for it. Therefore, it is essential to carefully consider the pricing strategy based on the target audience and the app's unique features.\n",
        "\n",
        "One insight that may lead to negative growth is the potential loss of revenue from offering free apps. While offering a free app can increase the number of downloads and visibility, it may not generate as much revenue as a paid app. This can be especially problematic for apps that require ongoing maintenance and updates, as the costs can quickly add up. Additionally, some users may be less likely to trust free apps, which could impact their decision to download and use them. Therefore, businesses need to carefully weigh the potential benefits and drawbacks of offering free apps versus paid apps.\n",
        "\n"
      ],
      "metadata": {
        "id": "jLNxxz7MYrdP"
      }
    },
    {
      "cell_type": "markdown",
      "source": [
        "#### **Chart - 5 - App Size VS App Installs**"
      ],
      "metadata": {
        "id": "bamQiAODYuh1"
      }
    },
    {
      "cell_type": "code",
      "source": [
        "# Chart - 5 visualization code\n",
        "# Relationship Between App Size and App Installs\n",
        "\n",
        "plt.scatter(df['Size'], df['Installs'], alpha=0.5)\n",
        "plt.title('App Size vs. Installs')\n",
        "plt.xlabel('Size')\n",
        "plt.ylabel('Installs')\n",
        "plt.show()"
      ],
      "metadata": {
        "id": "TIJwrbroYuh3"
      },
      "execution_count": null,
      "outputs": []
    },
    {
      "cell_type": "markdown",
      "source": [
        "##### 1. Why did you pick the specific chart?"
      ],
      "metadata": {
        "id": "QHF8YVU7Yuh3"
      }
    },
    {
      "cell_type": "markdown",
      "source": [
        "Answer Here.\n",
        "\n",
        "I would pick a scatter plot chart to visualize the relationship between App Size and Installs. This is because both App Size and Installs are continuous variables, and a scatter plot can show the distribution of each variable as well as their relationship with each other."
      ],
      "metadata": {
        "id": "dcxuIMRPYuh3"
      }
    },
    {
      "cell_type": "markdown",
      "source": [
        "##### 2. What is/are the insight(s) found from the chart?"
      ],
      "metadata": {
        "id": "GwzvFGzlYuh3"
      }
    },
    {
      "cell_type": "markdown",
      "source": [
        "Answer Here\n",
        "\n",
        "From the above scatter plot i found that :\n",
        "\n",
        "Most of the apps have a size of less than 40 MB.\n",
        "\n",
        "There is a positive correlation between App Size and Installs. It means that as the app size increases, the number of installs also tends to increase.\n",
        "\n",
        "Some apps with a large size (more than 100 MB) have a significant number of installs. These apps might be providing high-quality features that require a large amount of storage space. However, these apps are relatively less in number compared to the smaller apps.\n",
        "\n",
        "Overall, it can be inferred that while a larger app size may be indicative of more features and functionalities, developers need to be mindful of the impact of app size on user experience, device storage, and the likelihood of app installation."
      ],
      "metadata": {
        "id": "uyqkiB8YYuh3"
      }
    },
    {
      "cell_type": "markdown",
      "source": [
        "##### 3. Will the gained insights help creating a positive business impact? \n",
        "Are there any insights that lead to negative growth? Justify with specific reason."
      ],
      "metadata": {
        "id": "qYpmQ266Yuh3"
      }
    },
    {
      "cell_type": "markdown",
      "source": [
        "Answer Here\n",
        "\n",
        "\n",
        "The gained insight from the chart is that there is no significant correlation between app size and the number of installs. Apps with larger sizes do not necessarily have more installs compared to those with smaller sizes.\n",
        "\n",
        "This insight could potentially have a positive business impact as it suggests that developers do not need to focus solely on reducing the size of their apps to increase the number of installs. Instead, they can focus on improving the overall user experience and features of the app, which can lead to more positive reviews and word-of-mouth marketing, ultimately driving more installs.\n",
        "\n",
        "There are no insights that lead to negative growth from this chart."
      ],
      "metadata": {
        "id": "_WtzZ_hCYuh4"
      }
    },
    {
      "cell_type": "markdown",
      "source": [
        "#### **Chart - 6 -  Rating Distribution of Apps**"
      ],
      "metadata": {
        "id": "PIIx-8_IphqN"
      }
    },
    {
      "cell_type": "code",
      "source": [
        "# Chart - 6  visualization code\n",
        "\n",
        "# rating distribution of apps\n",
        "plt.figure(figsize=(15,7))\n",
        "rating = sns.countplot(x=\"Rating\" , data=df , palette = \"Set1\")\n",
        "rating.set_xticklabels(rating.get_xticklabels(), rotation=90, ha=\"right\")\n",
        "plt.title(\"Rating distribution of Apps\")\n"
      ],
      "metadata": {
        "id": "lqAIGUfyphqO"
      },
      "execution_count": null,
      "outputs": []
    },
    {
      "cell_type": "markdown",
      "source": [
        "##### 1. Why did you pick the specific chart?"
      ],
      "metadata": {
        "id": "t27r6nlMphqO"
      }
    },
    {
      "cell_type": "markdown",
      "source": [
        "Answer Here.\n",
        "\n",
        "I choose to create a count plot to visualize the rating distribution of apps because Countplot is a popular data visualization tool that can be used to make several insights from categorical data.it is a commonly used chart type for exploring variables.count plots are useful for visualizing the spread and concentration of data points, as well as any trends or patterns that may exist in the data. \n",
        "\n",
        "Overall, a count plot is an effective way to explore the ratings gain insights into how these variables may be related."
      ],
      "metadata": {
        "id": "iv6ro40sphqO"
      }
    },
    {
      "cell_type": "markdown",
      "source": [
        "##### 2. What is/are the insight(s) found from the chart?"
      ],
      "metadata": {
        "id": "r2jJGEOYphqO"
      }
    },
    {
      "cell_type": "markdown",
      "source": [
        "Answer Here\n",
        "\n",
        "The count plot with the count on the y-axis and the rating on the x-axis shows that there is a weak positive relationship between these two variables. We can see that as the count increases, the average rating tends to increase as well. However, there is also a lot of variability in the data, and there are many apps with a large range of ratings."
      ],
      "metadata": {
        "id": "Po6ZPi4hphqO"
      }
    },
    {
      "cell_type": "markdown",
      "source": [
        "##### 3. Will the gained insights help creating a positive business impact? \n",
        "Are there any insights that lead to negative growth? Justify with specific reason."
      ],
      "metadata": {
        "id": "b0JNsNcRphqO"
      }
    },
    {
      "cell_type": "markdown",
      "source": [
        "Answer Here\n",
        "\n",
        "The insights gained from the visualization can be useful for businesses to make informed decisions and improve their app development and marketing strategies. For instance, the weak positive relationship between the count and app ratings suggests that businesses should focus on not just generating a large number of count, but also ensuring that the app is of high quality and user-friendly, in order to maintain a high rating.\n",
        "\n",
        "Additionally, the insight that certain categories of apps are more popular than others can also help businesses to focus their resources on developing and marketing apps in those categories, which can lead to positive growth."
      ],
      "metadata": {
        "id": "xvSq8iUTphqO"
      }
    },
    {
      "cell_type": "markdown",
      "source": [
        "#### **Chart - 7 - Top 20 genres**\n"
      ],
      "metadata": {
        "id": "BZR9WyysphqO"
      }
    },
    {
      "cell_type": "code",
      "source": [
        "# Chart - 7 visualization code\n",
        "#Setting up the parameters for the plots\n",
        "sns.set_style('darkgrid')\n",
        "plt.rcParams['font.size'] = 14\n",
        "plt.rcParams['figure.figsize'] = (9, 5)\n",
        "plt.rcParams['figure.facecolor'] = '#00000000'"
      ],
      "metadata": {
        "id": "TdPTWpAVphqO"
      },
      "execution_count": null,
      "outputs": []
    },
    {
      "cell_type": "code",
      "source": [
        "top_genres = df.Genres.value_counts().reset_index().rename(columns={'Genres':'Count','index':'Genres'})\n",
        "top_genres"
      ],
      "metadata": {
        "id": "WRDuD7m_Ry0s"
      },
      "execution_count": null,
      "outputs": []
    },
    {
      "cell_type": "code",
      "source": [
        "genres_installs = df.groupby(['Genres'])[['Installs']].sum() \n",
        "genres_installs"
      ],
      "metadata": {
        "id": "aF4Kf9C9RyqP"
      },
      "execution_count": null,
      "outputs": []
    },
    {
      "cell_type": "code",
      "source": [
        "top_genres_installs = pd.merge(top_genres,genres_installs, on='Genres')\n",
        "top20_genres_installs = top_genres_installs.head(20)"
      ],
      "metadata": {
        "id": "FgOzKPCsRydR"
      },
      "execution_count": null,
      "outputs": []
    },
    {
      "cell_type": "code",
      "source": [
        "top20_genres_installs"
      ],
      "metadata": {
        "id": "5tAemnlESU2S"
      },
      "execution_count": null,
      "outputs": []
    },
    {
      "cell_type": "code",
      "source": [
        "#ploting top 20 genres\n",
        "plt.figure(figsize=(14,7))\n",
        "plt.xticks(rotation=90)\n",
        "plt.xlabel(\"Genres\")\n",
        "plt.ylabel(\"Number of application\")\n",
        "plt.title(\"Top 20 Genres\")\n",
        "sns.barplot(x='Count', y='Genres', data=top20_genres_installs)\n",
        "plt.show()"
      ],
      "metadata": {
        "id": "NpE7oUO6SUyw"
      },
      "execution_count": null,
      "outputs": []
    },
    {
      "cell_type": "markdown",
      "metadata": {
        "id": "dLteVMXK-Y7J"
      },
      "source": [
        "**Which are the Genres that are getting installed the most in top 20 Genres?**\n"
      ]
    },
    {
      "cell_type": "code",
      "source": [
        "plt.figure(figsize=(14,7))\n",
        "plt.xticks(rotation=90)\n",
        "plt.xlabel(\"Genres\")\n",
        "plt.ylabel(\"Installs\")\n",
        "plt.title(\"Installs according to Genres\")\n",
        "sns.barplot(data=top20_genres_installs, x='Genres', y='Installs')\n",
        "plt.show()"
      ],
      "metadata": {
        "id": "mBphGlOqTrt0"
      },
      "execution_count": null,
      "outputs": []
    },
    {
      "cell_type": "markdown",
      "metadata": {
        "id": "FOiA927uWVEI"
      },
      "source": [
        "**Above 2 barplot show top 20 genres. Top 3 genres according to number of apps are Action,sports,casual but Top 3 genres according to number of apps installed  are Casual,Action and News & Magazines.**"
      ]
    },
    {
      "cell_type": "markdown",
      "source": [
        "#### **Chart - 8 - Top 20 Category**"
      ],
      "metadata": {
        "id": "YJ55k-q6phqO"
      }
    },
    {
      "cell_type": "markdown",
      "metadata": {
        "id": "84jbCSvjWv7q"
      },
      "source": [
        "**What are top 20 Category?**"
      ]
    },
    {
      "cell_type": "code",
      "source": [
        "# Chart - 8 visualization code\n",
        "top_category = df.Category.value_counts().reset_index().rename(columns={'Category':'Count','index':'Category'})\n"
      ],
      "metadata": {
        "id": "B2aS4O1ophqO"
      },
      "execution_count": null,
      "outputs": []
    },
    {
      "cell_type": "code",
      "source": [
        "category_installs = df.groupby(['Category'])[['Installs']].sum()\n",
        "category_installs"
      ],
      "metadata": {
        "id": "ZoT2tJg9WM8z"
      },
      "execution_count": null,
      "outputs": []
    },
    {
      "cell_type": "code",
      "source": [
        "top_category_installs = pd.merge(top_category, category_installs, on='Category')\n",
        "top_20_category_installs = top_category_installs"
      ],
      "metadata": {
        "id": "3awSRLvBWcZZ"
      },
      "execution_count": null,
      "outputs": []
    },
    {
      "cell_type": "code",
      "source": [
        "plt.figure(figsize=(17,7))\n",
        "plt.xticks(rotation=90)\n",
        "plt.xlabel(\"Category\")\n",
        "plt.ylabel(\"Number of application\")\n",
        "plt.title(\"Count of applications for each Category\")\n",
        "sns.barplot(data=top_20_category_installs, x='Category', y='Count')\n",
        "plt.show()"
      ],
      "metadata": {
        "id": "Q6-b1bpDWhdD"
      },
      "execution_count": null,
      "outputs": []
    },
    {
      "cell_type": "markdown",
      "metadata": {
        "id": "dr0xvJ2BW83s"
      },
      "source": [
        "**Top 20 application installed based on category**"
      ]
    },
    {
      "cell_type": "code",
      "source": [
        "plt.figure(figsize=(14,7))\n",
        "plt.xticks(rotation=90)\n",
        "plt.xlabel(\"Category\")\n",
        "plt.ylabel(\"Installs\")\n",
        "plt.title(\"Number of installed applications for each Category\")\n",
        "sns.barplot(data=top_20_category_installs, x='Category', y='Installs')\n",
        "plt.show()"
      ],
      "metadata": {
        "id": "JNs_20SlXB-5"
      },
      "execution_count": null,
      "outputs": []
    },
    {
      "cell_type": "markdown",
      "metadata": {
        "id": "RAvxAz-8_BJ2"
      },
      "source": [
        "**As we can see from the above two plots: maximum number of apps present in google play store is under Game,Family,Dating category but as per the installation and requirement in the market plot, scenario is not the same. Maximum installed apps is under Games,News & Magazines and Family category**"
      ]
    },
    {
      "cell_type": "markdown",
      "source": [
        "#### **Chart - 9 - Average Distribution of Rating**"
      ],
      "metadata": {
        "id": "U2RJ9gkRphqQ"
      }
    },
    {
      "cell_type": "markdown",
      "metadata": {
        "id": "tXxpcUHCdO12"
      },
      "source": [
        "## **What is the Average Distribution of Rating of app on play store?**\n"
      ]
    },
    {
      "cell_type": "code",
      "source": [
        "# Chart - 9 visualization code\n",
        "plt.figure(figsize=(10,5))\n",
        "plt.xlabel(\"Rating\")\n",
        "plt.ylabel(\"Frequency\")\n",
        "graph = sns.kdeplot(df.Rating, color=\"Blue\", shade = True)\n",
        "plt.title('Distribution of Rating',size = 20);"
      ],
      "metadata": {
        "id": "GM7a4YP4phqQ"
      },
      "execution_count": null,
      "outputs": []
    },
    {
      "cell_type": "code",
      "source": [
        "print(\"Average mean is\", np.mean(df['Rating']))"
      ],
      "metadata": {
        "id": "XpEoGD-BZTZV"
      },
      "execution_count": null,
      "outputs": []
    },
    {
      "cell_type": "markdown",
      "metadata": {
        "id": "fal5ECGDd2mI"
      },
      "source": [
        "Average Rating is **4.30**"
      ]
    },
    {
      "cell_type": "markdown",
      "source": [
        "#### **Chart - 10 - Histogram of size of apps**"
      ],
      "metadata": {
        "id": "n3dbpmDWp1ck"
      }
    },
    {
      "cell_type": "markdown",
      "metadata": {
        "id": "D5C0c4Ekpb2L"
      },
      "source": [
        "**Histogram of size of apps**"
      ]
    },
    {
      "cell_type": "code",
      "source": [
        "# Chart - 10 visualization code\n",
        "# to remove null values from size column\n",
        "df.loc[df['Size'].isnull(),'Size']=0"
      ],
      "metadata": {
        "id": "bwevp1tKp1ck"
      },
      "execution_count": null,
      "outputs": []
    },
    {
      "cell_type": "code",
      "source": [
        "plt.xlabel(\"Size\")\n",
        "plt.title(\"Distribution of Size\")\n",
        "plt.hist(df['Size']);\n",
        "plt.show()"
      ],
      "metadata": {
        "id": "6SzmNWKmdX4q"
      },
      "execution_count": null,
      "outputs": []
    },
    {
      "cell_type": "markdown",
      "metadata": {
        "id": "tWJkJH-tpz3O"
      },
      "source": [
        "**From the above histogram, it can be concluded that maximum number of applications present in the dataset are of small size. 0 to 10 mb**"
      ]
    },
    {
      "cell_type": "markdown",
      "source": [
        "#### **Chart - 11 - count of applications in each category**"
      ],
      "metadata": {
        "id": "Xi2S8jQsnFfo"
      }
    },
    {
      "cell_type": "markdown",
      "metadata": {
        "id": "RwuoYiXFfnXe"
      },
      "source": [
        "**What are the count of applications in each category differentiated by their type?**"
      ]
    },
    {
      "cell_type": "code",
      "source": [
        "app_count = df.groupby(['Category','Type'])[['App']].count().reset_index().rename(columns={'App':'Count','index':'App'})\n"
      ],
      "metadata": {
        "id": "5Q8O5psreDYB"
      },
      "execution_count": null,
      "outputs": []
    },
    {
      "cell_type": "code",
      "source": [
        "df_app_count = app_count.pivot('Category', 'Type', 'Count').fillna(0).reset_index()"
      ],
      "metadata": {
        "id": "tmg35NcYeKWD"
      },
      "execution_count": null,
      "outputs": []
    },
    {
      "cell_type": "code",
      "source": [
        "df_app_count.set_index('Category').plot(kind='bar', stacked=True, figsize=(14,7))\n",
        "plt.xlabel(\"Category\", fontsize=15)\n",
        "plt.ylabel(\"Count\", fontsize=15)\n",
        "plt.title(\"Count of applications in each category differentiated by their type\")\n",
        "plt.show()"
      ],
      "metadata": {
        "id": "I4WhEJtHeQ-B"
      },
      "execution_count": null,
      "outputs": []
    },
    {
      "cell_type": "markdown",
      "source": [
        "#### **Chart - 12 - What portion of the apps in playstore are paid and free?**\n",
        "\n",
        "\n",
        "\n"
      ],
      "metadata": {
        "id": "oFPLp9TZ2I1W"
      }
    },
    {
      "cell_type": "code",
      "source": [
        "plt.figure(figsize=(10,10))\n",
        "labels = df['Type'].value_counts(sort = True).index\n",
        "sizes = df['Type'].value_counts(sort = True)\n",
        "colors = [\"lightblue\",\"lightgreen\"]\n",
        "explode = (0.2,0)\n",
        "plt.pie(sizes, explode= None,labels=labels, colors=colors, autopct='%1.1f%%', shadow=True, startangle=0)\n",
        "plt.title('Percent of Free Vs Paid Apps in store',size = 20)\n",
        "plt.show()"
      ],
      "metadata": {
        "id": "4_LCOMJU2U37"
      },
      "execution_count": null,
      "outputs": []
    },
    {
      "cell_type": "markdown",
      "source": [
        "**Findings:**\n",
        "\n",
        "**From the above graph we can see that 98.6%(Approx.) of apps in google play store are free and 1.4%(Approx.) are paid.**"
      ],
      "metadata": {
        "id": "1vn4rM662yCo"
      }
    },
    {
      "cell_type": "markdown",
      "source": [
        "#### **Chart - 13 - What is the Percentage of Review Sentiments?**\n",
        "\n",
        "\n",
        "\n"
      ],
      "metadata": {
        "id": "ojdq5Mua4KBl"
      }
    },
    {
      "cell_type": "code",
      "source": [
        "df2.columns"
      ],
      "metadata": {
        "id": "2SaWji2ph49Q"
      },
      "execution_count": null,
      "outputs": []
    },
    {
      "cell_type": "code",
      "source": [
        "df2.describe()"
      ],
      "metadata": {
        "id": "XGO1Ydq7h45t"
      },
      "execution_count": null,
      "outputs": []
    },
    {
      "cell_type": "markdown",
      "metadata": {
        "id": "gcuJ424lYhot"
      },
      "source": [
        "About 75 percentile of the time sentiment polarity is around 0.4, which is positive.\n",
        "\n",
        "Subjectivity is between 0 and 1, median subjectivity that was understood was 0.51"
      ]
    },
    {
      "cell_type": "code",
      "source": [
        "merged_df = df.merge(df2, on=\"App\")"
      ],
      "metadata": {
        "id": "A-drcMgylD2A"
      },
      "execution_count": null,
      "outputs": []
    },
    {
      "cell_type": "code",
      "source": [
        "# Compute the counts of each sentiment type in the 'Sentiment' column of the 'merged_df' dataset\n",
        "counts = merged_df['Sentiment'].value_counts()\n",
        "\n",
        "# Define the labels for each sentiment type\n",
        "labels = ['Positive Reviews', 'Negative Reviews', 'Neutral Reviews']\n",
        "\n",
        "# Set the font size and figure size for the plot\n",
        "plt.rcParams.update({'font.size': 12, 'figure.figsize': (8, 8)})\n",
        "\n",
        "# Plot the pie chart with labels and other settings\n",
        "plt.pie(counts, labels=labels, explode=[0, 0.05, 0.005], shadow=True, autopct=\"%.2f%%\")\n",
        "plt.title('A Pie Chart Representing Percentage of Review Sentiments', fontsize=20)\n",
        "plt.axis('off')\n",
        "plt.legend()\n",
        "\n",
        "# Show the plot\n",
        "plt.show()\n"
      ],
      "metadata": {
        "id": "VNm_iSTH4jZC"
      },
      "execution_count": null,
      "outputs": []
    },
    {
      "cell_type": "markdown",
      "metadata": {
        "id": "ITQ63IRXjlbH"
      },
      "source": [
        "**Overall users review Sentimets are 61.52% Positive , 29.96% Negative and 8.52% Neutral**"
      ]
    },
    {
      "cell_type": "markdown",
      "source": [
        "#### **Chart - 14 - Correlation Heatmap**\n",
        "\n",
        "\n",
        "\n"
      ],
      "metadata": {
        "id": "NC_X3p0fY2L0"
      }
    },
    {
      "cell_type": "code",
      "source": [
        "# Correlation Heatmap visualization code\n",
        "# Finding correlation between different columns in the play store data\n",
        "df.corr()"
      ],
      "metadata": {
        "id": "xyC9zolEZNRQ"
      },
      "execution_count": null,
      "outputs": []
    },
    {
      "cell_type": "code",
      "source": [
        "# Heat map for play_store\n",
        "plt.figure(figsize = (10,5))\n",
        "sns.heatmap(df.corr(), annot= True , cmap='coolwarm')\n",
        "plt.title('Corelation Heatmap for Playstore Data', size=10)"
      ],
      "metadata": {
        "id": "nwqsAzFsHwLD"
      },
      "execution_count": null,
      "outputs": []
    },
    {
      "cell_type": "markdown",
      "source": [
        "##### 1. Why did you pick the specific chart?"
      ],
      "metadata": {
        "id": "UV0SzAkaZNRQ"
      }
    },
    {
      "cell_type": "markdown",
      "source": [
        "Answer Here.\n",
        "\n",
        "A correlation heatmap is a good chart choice to visualize the relationships between multiple variables in a dataset. It shows the correlation coefficients between each pair of variables as a color-coded matrix, where the intensity of the color represents the strength of the correlation. By using a correlation heatmap, we can easily identify the variables that have a strong positive or negative correlation with each other, which can help in feature selection and modeling. Therefore, it is a good choice for exploring the relationships between different variables in the Playstore dataset."
      ],
      "metadata": {
        "id": "DVPuT8LYZNRQ"
      }
    },
    {
      "cell_type": "markdown",
      "source": [
        "##### 2. What is/are the insight(s) found from the chart?"
      ],
      "metadata": {
        "id": "YPEH6qLeZNRQ"
      }
    },
    {
      "cell_type": "markdown",
      "source": [
        "Answer Here\n",
        "\n",
        "The correlation heatmap is used to visualize the correlation between all the numerical variables in the dataset. From the heatmap, we can see that there is a strong positive correlation between the number of installs and the number of reviews, indicating that more popular apps tend to have more reviews.\n",
        "\n",
        "Additionally, we can see that there is a weak negative correlation between the app size and the number of installs, which may indicate that users prefer smaller apps that take up less space on their devices.\n",
        "\n",
        "There is also a weak negative correlation between the app price and the number of installs, which suggests that users are less likely to download apps that are priced higher.\n",
        "\n",
        "Overall, the heatmap provides a useful visual summary of the relationships between the variables in the dataset and can help guide further analysis and decision-making."
      ],
      "metadata": {
        "id": "bfSqtnDqZNRR"
      }
    },
    {
      "cell_type": "markdown",
      "source": [
        "#### **Chart - 15- Pair Plot** "
      ],
      "metadata": {
        "id": "q29F0dvdveiT"
      }
    },
    {
      "cell_type": "code",
      "source": [
        "# Pair Plot visualization code\n",
        "sns.pairplot(df)"
      ],
      "metadata": {
        "id": "o58-TEIhveiU"
      },
      "execution_count": null,
      "outputs": []
    },
    {
      "cell_type": "markdown",
      "source": [
        "##### 1. Why did you pick the specific chart?"
      ],
      "metadata": {
        "id": "EXh0U9oCveiU"
      }
    },
    {
      "cell_type": "markdown",
      "source": [
        "Answer Here.\n",
        "\n",
        "A pair plot is an excellent visualization tool to understand the pairwise relationships between the variables in the dataset. As we have multiple numerical variables in the Play Store dataset, a pair plot can be used to understand the relationships between them. Therefore, a pair plot is an appropriate chart to use in this scenario."
      ],
      "metadata": {
        "id": "eMmPjTByveiU"
      }
    },
    {
      "cell_type": "markdown",
      "source": [
        "##### 2. What is/are the insight(s) found from the chart?"
      ],
      "metadata": {
        "id": "22aHeOlLveiV"
      }
    },
    {
      "cell_type": "markdown",
      "source": [
        "Answer Here\n",
        "\n",
        "The pairplot shows the pairwise relationships between various numerical variables in the Play Store dataset. Here are some insights that can be derived from the plot:\n",
        "\n",
        "* There is a strong positive correlation between the number of installs and the number of reviews.\n",
        "* There is a weak positive correlation between the size of the app and the number of installs.\n",
        "* There is a weak positive correlation between the rating of the app and the number of installs.\n",
        "* There is a weak negative correlation between the price of the app and the number of installs.\n",
        "* The pairplot also reveals the distribution of each variable, which can be useful in identifying outliers or unusual patterns in the data.\n",
        "\n",
        "Overall, the pairplot provides a comprehensive view of the relationships between the numerical variables in the dataset and can be helpful in identifying potential patterns and trends."
      ],
      "metadata": {
        "id": "uPQ8RGwHveiV"
      }
    },
    {
      "cell_type": "markdown",
      "source": [
        "## **5. Solution to Business Objective**"
      ],
      "metadata": {
        "id": "JcMwzZxoAimU"
      }
    },
    {
      "cell_type": "markdown",
      "source": [
        "#### What do you suggest the client to achieve Business Objective ? \n",
        "Explain Briefly."
      ],
      "metadata": {
        "id": "8G2x9gOozGDZ"
      }
    },
    {
      "cell_type": "markdown",
      "source": [
        "Answer Here\n",
        "\n",
        "*   Focus on building apps in the most popular categories, such as Family, Game, and Tools. These categories have the highest number of app installs and can potentially generate more revenue.\n",
        "\n",
        "*   Consider offering in-app purchases as a monetization strategy since it shows a positive correlation with app ratings and can generate higher revenue than paid apps.\n",
        "\n",
        "\n",
        "*  Optimize app size to provide a better user experience and potentially \n",
        "increase app installs. Apps with smaller sizes tend to have higher ratings and installs.\n",
        "\n",
        "\n",
        "*  Encourage users to leave reviews and ratings, as higher ratings and reviews can lead to more app installs and a higher ranking on the Play Store.\n",
        "\n",
        "\n",
        "*  Continuously update and improve the app to maintain user engagement and satisfaction, which can lead to higher app installs and more revenue.\n",
        "\n",
        "\n",
        "*  Consider expanding the app's availability to other regions and languages, as this can increase the potential user base and generate more revenue.\n",
        "\n",
        "\n",
        "*  By implementing these suggestions, the client can increase their app installs, improve user satisfaction, and generate more revenue, ultimately achieving their business objectives on the Play Store.\n",
        "\n",
        "\n",
        "\n"
      ],
      "metadata": {
        "id": "pASKb0qOza21"
      }
    },
    {
      "cell_type": "markdown",
      "source": [
        "# **Conclusion**"
      ],
      "metadata": {
        "id": "gCX9965dhzqZ"
      }
    },
    {
      "cell_type": "markdown",
      "source": [
        "Write the conclusion here.\n",
        "\n",
        "*  The most popular app categories in terms of number of installations are communication, social, and video players and editors.\n",
        "\n",
        "* Most of the apps are Free, so focusing on free app is more important.\n",
        "\n",
        "* They need to focus on updating their apps regularly, so that it will attract more users.\n",
        "\n",
        "*  There is a weak correlation between app size and number of installs.\n",
        "\n",
        "*  The average rating of apps is high, around 4.30 out of 5.\n",
        "\n",
        "*  There is a weak positive correlation between app rating and number of reviews.\n",
        "\n",
        "*  There is a weak positive correlation between app rating and number of installs.\n",
        "\n",
        "*  The majority of the apps are aimed at everyone, followed by teenagers and mature audiences.\n",
        "\n",
        "*  There is a weak correlation between app type and app rating.\n",
        "\n",
        "*  There is a weak negative correlation between app size and app rating.\n",
        "\n",
        "\n",
        "\n",
        " Overall, the insights gained from the analysis can help the client make informed decisions when developing and launching new apps on the Play Store. They can use the insights to identify the most popular categories and user demographics and optimize their app's pricing, size, and rating to attract more users and maximize their installs and revenue."
      ],
      "metadata": {
        "id": "Fjb1IsQkh3yE"
      }
    },
    {
      "cell_type": "markdown",
      "source": [
        "### Project Done By **Bhushan Borse**\n",
        "### **Thank You for Reading ❤**   "
      ],
      "metadata": {
        "id": "KnhGd0c4oAnR"
      }
    },
    {
      "cell_type": "markdown",
      "source": [
        "### ***Hurrah! I have successfully completed my EDA Capstone Project !!!***"
      ],
      "metadata": {
        "id": "gIfDvo9L0UH2"
      }
    }
  ]
}